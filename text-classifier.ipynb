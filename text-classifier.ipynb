{
 "cells": [
  {
   "cell_type": "markdown",
   "id": "2f4553c6-32ef-49f4-905b-e7e92e7de4fe",
   "metadata": {},
   "source": [
    "# Machine Learning\n",
    "## Import pandas library and sklearn"
   ]
  },
  {
   "cell_type": "code",
   "execution_count": 1,
   "id": "6e166705-e98c-40f7-90f1-905f8118a3d6",
   "metadata": {},
   "outputs": [],
   "source": [
    "import pandas as pd\n",
    "from sklearn.feature_extraction.text import CountVectorizer\n",
    "from sklearn.model_selection import train_test_split\n",
    "from sklearn.linear_model import LogisticRegression"
   ]
  },
  {
   "cell_type": "markdown",
   "id": "961547fd-8cce-4372-8a52-558109ac516d",
   "metadata": {},
   "source": [
    "## Declare files path"
   ]
  },
  {
   "cell_type": "code",
   "execution_count": 2,
   "id": "c39e9f20-2d14-457a-aad0-9c576b2138c1",
   "metadata": {},
   "outputs": [],
   "source": [
    "filepath_dict= {'yelp':'data/yelp_labelled.txt',\n",
    "                'amazon':'data/amazon_cells_labelled.txt',\n",
    "                'imdb':'data/imdb_labelled.txt'}"
   ]
  },
  {
   "cell_type": "code",
   "execution_count": 5,
   "id": "72dfbc34-f6c7-4352-b8e2-ca403196bed9",
   "metadata": {},
   "outputs": [
    {
     "data": {
      "text/plain": [
       "{'yelp': 'data/yelp_labelled.txt',\n",
       " 'amazon': 'data/amazon_cells_labelled.txt',\n",
       " 'imdb': 'data/imdb_labelled.txt'}"
      ]
     },
     "execution_count": 5,
     "metadata": {},
     "output_type": "execute_result"
    }
   ],
   "source": [
    "filepath_dict"
   ]
  },
  {
   "cell_type": "markdown",
   "id": "7886eff5-29c3-4488-b9f7-68e12a12637b",
   "metadata": {},
   "source": [
    "## Read files data"
   ]
  },
  {
   "cell_type": "code",
   "execution_count": 18,
   "id": "1f577a69-58a2-4ee2-9bec-4671df4c9a3c",
   "metadata": {},
   "outputs": [
    {
     "name": "stdout",
     "output_type": "stream",
     "text": [
      "sentence    Wow... Loved this place.\n",
      "label                              1\n",
      "source                          yelp\n",
      "Name: 0, dtype: object\n"
     ]
    }
   ],
   "source": [
    "dfs=[]\n",
    "for src, path in filepath_dict.items():\n",
    "    df=pd.read_csv(path,names=['sentence','label'],sep='\\t')\n",
    "    df[\"source\"] = src\n",
    "    dfs.append(df)\n",
    "df = pd.concat(dfs)\n",
    "print(df.iloc[0])\n",
    "    "
   ]
  },
  {
   "cell_type": "markdown",
   "id": "6f17dc8d-5a25-43af-917d-2079d683dda4",
   "metadata": {},
   "source": [
    "## Declare the victor"
   ]
  },
  {
   "cell_type": "code",
   "execution_count": 13,
   "id": "fcf45896-fca6-445c-b258-85d3d49bb323",
   "metadata": {},
   "outputs": [],
   "source": [
    "sentences = ['John likes ice cream', 'John hates chocolate.']"
   ]
  },
  {
   "cell_type": "code",
   "execution_count": 15,
   "id": "48a1db9d-8022-4a60-960f-7fa42531bd6d",
   "metadata": {},
   "outputs": [
    {
     "data": {
      "text/plain": [
       "CountVectorizer(lowercase=False, min_df=0)"
      ]
     },
     "execution_count": 15,
     "metadata": {},
     "output_type": "execute_result"
    }
   ],
   "source": [
    "vectorizer=CountVectorizer(min_df=0,lowercase=False)\n",
    "vectorizer"
   ]
  },
  {
   "cell_type": "markdown",
   "id": "51ee447a-327c-42ce-a3a1-db6c34263c68",
   "metadata": {},
   "source": [
    "## Fitting the data"
   ]
  },
  {
   "cell_type": "code",
   "execution_count": 20,
   "id": "54b1bc4c-616d-4364-aaed-4452d23ea618",
   "metadata": {},
   "outputs": [
    {
     "data": {
      "text/plain": [
       "{'John': 0, 'likes': 5, 'ice': 4, 'cream': 2, 'hates': 3, 'chocolate': 1}"
      ]
     },
     "execution_count": 20,
     "metadata": {},
     "output_type": "execute_result"
    }
   ],
   "source": [
    "vectorizer.fit(sentences)\n",
    "vectorizer.vocabulary_"
   ]
  },
  {
   "cell_type": "code",
   "execution_count": 22,
   "id": "1b8a95ad-dc95-4afb-a4ff-8885f0741d21",
   "metadata": {},
   "outputs": [
    {
     "data": {
      "text/plain": [
       "array([[1, 0, 1, 0, 1, 1],\n",
       "       [1, 1, 0, 1, 0, 0]])"
      ]
     },
     "execution_count": 22,
     "metadata": {},
     "output_type": "execute_result"
    }
   ],
   "source": [
    "vectorizer.transform(sentences).toarray()"
   ]
  },
  {
   "cell_type": "markdown",
   "id": "abd9d836-059e-4d9b-9a7a-13735af1cc90",
   "metadata": {},
   "source": [
    "# Defining a Baseline Model"
   ]
  },
  {
   "cell_type": "markdown",
   "id": "c573f865-712c-4557-abc2-6df93e977476",
   "metadata": {},
   "source": [
    "## Yelp data"
   ]
  },
  {
   "cell_type": "code",
   "execution_count": 23,
   "id": "caa6a1a2-6ffc-4a5e-b8f4-2259aa65d4d7",
   "metadata": {},
   "outputs": [
    {
     "data": {
      "text/html": [
       "<div>\n",
       "<style scoped>\n",
       "    .dataframe tbody tr th:only-of-type {\n",
       "        vertical-align: middle;\n",
       "    }\n",
       "\n",
       "    .dataframe tbody tr th {\n",
       "        vertical-align: top;\n",
       "    }\n",
       "\n",
       "    .dataframe thead th {\n",
       "        text-align: right;\n",
       "    }\n",
       "</style>\n",
       "<table border=\"1\" class=\"dataframe\">\n",
       "  <thead>\n",
       "    <tr style=\"text-align: right;\">\n",
       "      <th></th>\n",
       "      <th>sentence</th>\n",
       "      <th>label</th>\n",
       "      <th>source</th>\n",
       "    </tr>\n",
       "  </thead>\n",
       "  <tbody>\n",
       "    <tr>\n",
       "      <th>0</th>\n",
       "      <td>Wow... Loved this place.</td>\n",
       "      <td>1</td>\n",
       "      <td>yelp</td>\n",
       "    </tr>\n",
       "    <tr>\n",
       "      <th>1</th>\n",
       "      <td>Crust is not good.</td>\n",
       "      <td>0</td>\n",
       "      <td>yelp</td>\n",
       "    </tr>\n",
       "    <tr>\n",
       "      <th>2</th>\n",
       "      <td>Not tasty and the texture was just nasty.</td>\n",
       "      <td>0</td>\n",
       "      <td>yelp</td>\n",
       "    </tr>\n",
       "    <tr>\n",
       "      <th>3</th>\n",
       "      <td>Stopped by during the late May bank holiday of...</td>\n",
       "      <td>1</td>\n",
       "      <td>yelp</td>\n",
       "    </tr>\n",
       "    <tr>\n",
       "      <th>4</th>\n",
       "      <td>The selection on the menu was great and so wer...</td>\n",
       "      <td>1</td>\n",
       "      <td>yelp</td>\n",
       "    </tr>\n",
       "    <tr>\n",
       "      <th>...</th>\n",
       "      <td>...</td>\n",
       "      <td>...</td>\n",
       "      <td>...</td>\n",
       "    </tr>\n",
       "    <tr>\n",
       "      <th>995</th>\n",
       "      <td>I think food should have flavor and texture an...</td>\n",
       "      <td>0</td>\n",
       "      <td>yelp</td>\n",
       "    </tr>\n",
       "    <tr>\n",
       "      <th>996</th>\n",
       "      <td>Appetite instantly gone.</td>\n",
       "      <td>0</td>\n",
       "      <td>yelp</td>\n",
       "    </tr>\n",
       "    <tr>\n",
       "      <th>997</th>\n",
       "      <td>Overall I was not impressed and would not go b...</td>\n",
       "      <td>0</td>\n",
       "      <td>yelp</td>\n",
       "    </tr>\n",
       "    <tr>\n",
       "      <th>998</th>\n",
       "      <td>The whole experience was underwhelming, and I ...</td>\n",
       "      <td>0</td>\n",
       "      <td>yelp</td>\n",
       "    </tr>\n",
       "    <tr>\n",
       "      <th>999</th>\n",
       "      <td>Then, as if I hadn't wasted enough of my life ...</td>\n",
       "      <td>0</td>\n",
       "      <td>yelp</td>\n",
       "    </tr>\n",
       "  </tbody>\n",
       "</table>\n",
       "<p>1000 rows × 3 columns</p>\n",
       "</div>"
      ],
      "text/plain": [
       "                                              sentence  label source\n",
       "0                             Wow... Loved this place.      1   yelp\n",
       "1                                   Crust is not good.      0   yelp\n",
       "2            Not tasty and the texture was just nasty.      0   yelp\n",
       "3    Stopped by during the late May bank holiday of...      1   yelp\n",
       "4    The selection on the menu was great and so wer...      1   yelp\n",
       "..                                                 ...    ...    ...\n",
       "995  I think food should have flavor and texture an...      0   yelp\n",
       "996                           Appetite instantly gone.      0   yelp\n",
       "997  Overall I was not impressed and would not go b...      0   yelp\n",
       "998  The whole experience was underwhelming, and I ...      0   yelp\n",
       "999  Then, as if I hadn't wasted enough of my life ...      0   yelp\n",
       "\n",
       "[1000 rows x 3 columns]"
      ]
     },
     "execution_count": 23,
     "metadata": {},
     "output_type": "execute_result"
    }
   ],
   "source": [
    "df_yelp = df[df['source'] == 'yelp']\n",
    "df_yelp"
   ]
  },
  {
   "cell_type": "code",
   "execution_count": 25,
   "id": "1be4e878-7cfa-4eea-9401-c18e81f0a184",
   "metadata": {},
   "outputs": [],
   "source": [
    "sentences = df_yelp['sentence'].values\n",
    "#sentences"
   ]
  },
  {
   "cell_type": "code",
   "execution_count": 27,
   "id": "20697235-beaf-4821-8388-67c262d96060",
   "metadata": {},
   "outputs": [],
   "source": [
    "y = df_yelp['label'].values\n",
    "#y"
   ]
  },
  {
   "cell_type": "code",
   "execution_count": 33,
   "id": "19a8dc12-300e-4efa-86ad-6f03f8db00fc",
   "metadata": {},
   "outputs": [],
   "source": [
    "x_train , x_test , y_train , y_test = train_test_split(sentences, y, test_size=0.4, random_state=100)\n",
    "\n",
    "#x_train\n",
    "# x_test\n",
    "# y_train\n",
    "# y_test"
   ]
  },
  {
   "cell_type": "code",
   "execution_count": 34,
   "id": "253e1e13-f3aa-42a7-a49a-c047f5366e73",
   "metadata": {},
   "outputs": [
    {
     "data": {
      "text/plain": [
       "CountVectorizer()"
      ]
     },
     "execution_count": 34,
     "metadata": {},
     "output_type": "execute_result"
    }
   ],
   "source": [
    "vectorizer = CountVectorizer()\n",
    "vectorizer"
   ]
  },
  {
   "cell_type": "code",
   "execution_count": 35,
   "id": "185f4482-8a73-4d45-89b8-03fde3903961",
   "metadata": {},
   "outputs": [
    {
     "data": {
      "text/plain": [
       "CountVectorizer()"
      ]
     },
     "execution_count": 35,
     "metadata": {},
     "output_type": "execute_result"
    }
   ],
   "source": [
    "vectorizer.fit(x_train)\n",
    "vectorizer"
   ]
  },
  {
   "cell_type": "code",
   "execution_count": 36,
   "id": "6cce04ba-6ce5-46b8-a179-55a26239b7b2",
   "metadata": {},
   "outputs": [
    {
     "data": {
      "text/plain": [
       "<600x1510 sparse matrix of type '<class 'numpy.int64'>'\n",
       "\twith 5858 stored elements in Compressed Sparse Row format>"
      ]
     },
     "execution_count": 36,
     "metadata": {},
     "output_type": "execute_result"
    }
   ],
   "source": [
    "X_train = vectorizer.transform(x_train)\n",
    "X_train"
   ]
  },
  {
   "cell_type": "code",
   "execution_count": 37,
   "id": "569922ea-1e2b-4b6e-84e4-52345a828b63",
   "metadata": {},
   "outputs": [
    {
     "data": {
      "text/plain": [
       "<400x1510 sparse matrix of type '<class 'numpy.int64'>'\n",
       "\twith 3323 stored elements in Compressed Sparse Row format>"
      ]
     },
     "execution_count": 37,
     "metadata": {},
     "output_type": "execute_result"
    }
   ],
   "source": [
    "X_test  = vectorizer.transform(x_test)\n",
    "X_test"
   ]
  },
  {
   "cell_type": "code",
   "execution_count": 38,
   "id": "21ca4e1f-8bc3-4e3d-a15d-0880b892d1b0",
   "metadata": {},
   "outputs": [
    {
     "name": "stdout",
     "output_type": "stream",
     "text": [
      "Accuracy: 0.8075\n"
     ]
    }
   ],
   "source": [
    "classifier = LogisticRegression()\n",
    "classifier.fit(X_train, y_train)\n",
    "score = classifier.score(X_test, y_test)\n",
    "score\n",
    "\n",
    "print(\"Accuracy:\", score)"
   ]
  },
  {
   "cell_type": "code",
   "execution_count": 39,
   "id": "0003b464-b7fe-4bae-905e-006cf1567cb6",
   "metadata": {},
   "outputs": [
    {
     "name": "stdout",
     "output_type": "stream",
     "text": [
      "Accuracy for yelp data: 0.7960\n",
      "Accuracy for amazon data: 0.7960\n",
      "Accuracy for imdb data: 0.7487\n"
     ]
    }
   ],
   "source": [
    "for source in df['source'].unique():\n",
    "    df_source=df[df['source']==source]\n",
    "    sentences =df_source['sentence'].values\n",
    "    y = df_source['label'].values\n",
    "    sentences_train, sentences_test, y_train, y_test = train_test_split(\n",
    "        sentences, y, test_size=0.25, random_state=1000)\n",
    "    vectorizer = CountVectorizer()\n",
    "    vectorizer.fit(sentences_train)\n",
    "    X_train = vectorizer.transform(sentences_train)\n",
    "    X_test  = vectorizer.transform(sentences_test)\n",
    "\n",
    "    classifier = LogisticRegression()\n",
    "    classifier.fit(X_train, y_train)\n",
    "    score = classifier.score(X_test, y_test)\n",
    "    print('Accuracy for {} data: {:.4f}'.format(source, score))"
   ]
  },
  {
   "cell_type": "code",
   "execution_count": null,
   "id": "2967cc54-6fea-4e90-b6b8-6ecdaa76f845",
   "metadata": {},
   "outputs": [],
   "source": []
  }
 ],
 "metadata": {
  "kernelspec": {
   "display_name": "Python 3 (ipykernel)",
   "language": "python",
   "name": "python3"
  },
  "language_info": {
   "codemirror_mode": {
    "name": "ipython",
    "version": 3
   },
   "file_extension": ".py",
   "mimetype": "text/x-python",
   "name": "python",
   "nbconvert_exporter": "python",
   "pygments_lexer": "ipython3",
   "version": "3.8.10"
  }
 },
 "nbformat": 4,
 "nbformat_minor": 5
}
